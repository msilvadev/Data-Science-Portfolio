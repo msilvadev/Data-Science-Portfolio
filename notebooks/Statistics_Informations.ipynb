{
  "nbformat": 4,
  "nbformat_minor": 0,
  "metadata": {
    "colab": {
      "name": "Statistics Informations.ipynb",
      "provenance": [],
      "authorship_tag": "ABX9TyMaoc8PYqTSoAr922euwLZ9",
      "include_colab_link": true
    },
    "kernelspec": {
      "name": "python3",
      "display_name": "Python 3"
    },
    "language_info": {
      "name": "python"
    }
  },
  "cells": [
    {
      "cell_type": "markdown",
      "metadata": {
        "id": "view-in-github",
        "colab_type": "text"
      },
      "source": [
        "<a href=\"https://colab.research.google.com/github/msilvadev/Data-Science-Portfolio/blob/main/notebooks/Statistics_Informations.ipynb\" target=\"_parent\"><img src=\"https://colab.research.google.com/assets/colab-badge.svg\" alt=\"Open In Colab\"/></a>"
      ]
    },
    {
      "cell_type": "markdown",
      "metadata": {
        "id": "Whcu2cTttx4s"
      },
      "source": [
        "<img alt=\"Colaboratory logo\" src=\"https://raw.githubusercontent.com/msilvadev/Data-Engineer-Portfolio/main/banner.png\">\n",
        "\n",
        "# **Statistics Informations with Pandas**\n",
        "*by [Matheus Silva](https://www.linkedin.com/in/msilvadev/)*\n",
        "\n",
        "---\n",
        "<br/>\n",
        "\n",
        "## Introduction\n",
        "\n",
        "As a data scientist, you need to go deeper into the field of statistics more and more.\n",
        "\n",
        "Behind our analyzes and *machine learning* models are pillars based on statistics and mathematic theory. We don't need to know all of them, but it is necessary to master the main concepts.\n",
        "\n",
        "Statistics reveal many things immediately, validating or discarding hypotheses early on in a *Data Science* project.\n",
        "\n",
        "## Dataset used in this project\n",
        "\n",
        "To discover and understand some of these principal concepts of statistics. I used a dataset from **[MillionSongSubset(http://millionsongdataset.com/pages/getting-dataset/)**, which is a freely available collection of audio features and metadata for a million contemporary popular music tracks."
      ]
    },
    {
      "cell_type": "code",
      "metadata": {
        "id": "UuiLyddwtqIr"
      },
      "source": [
        "# import packages\n",
        "import pandas as pd"
      ],
      "execution_count": 1,
      "outputs": []
    },
    {
      "cell_type": "code",
      "metadata": {
        "id": "46LUMumgzcJi"
      },
      "source": [
        ""
      ],
      "execution_count": null,
      "outputs": []
    }
  ]
}