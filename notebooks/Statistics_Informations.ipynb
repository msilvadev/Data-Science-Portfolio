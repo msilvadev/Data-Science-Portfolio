{
  "nbformat": 4,
  "nbformat_minor": 0,
  "metadata": {
    "colab": {
      "name": "Statistics Informations.ipynb",
      "provenance": [],
      "toc_visible": true,
      "authorship_tag": "ABX9TyO92IiKSiaDu2r5hfz0uvnF",
      "include_colab_link": true
    },
    "kernelspec": {
      "name": "python3",
      "display_name": "Python 3"
    },
    "language_info": {
      "name": "python"
    }
  },
  "cells": [
    {
      "cell_type": "markdown",
      "metadata": {
        "id": "view-in-github",
        "colab_type": "text"
      },
      "source": [
        "<a href=\"https://colab.research.google.com/github/msilvadev/Data-Science-Portfolio/blob/main/notebooks/Statistics_Informations.ipynb\" target=\"_parent\"><img src=\"https://colab.research.google.com/assets/colab-badge.svg\" alt=\"Open In Colab\"/></a>"
      ]
    },
    {
      "cell_type": "markdown",
      "metadata": {
        "id": "Whcu2cTttx4s"
      },
      "source": [
        "<img alt=\"Colaboratory logo\" src=\"https://raw.githubusercontent.com/msilvadev/Data-Engineer-Portfolio/main/banner.png\">\n",
        "\n",
        "# **Statistics Informations with Pandas**\n",
        "*by [Matheus Silva](https://www.linkedin.com/in/msilvadev/)*\n",
        "\n",
        "---\n",
        "<br/>\n",
        "\n",
        "## Introduction\n",
        "\n",
        "As a data scientist, you need to go deeper into the field of statistics more and more.\n",
        "\n",
        "Behind our analyzes and *machine learning* models are pillars based on statistics and mathematic theory. We don't need to know all of them, but it is necessary to master the main concepts.\n",
        "\n",
        "Statistics reveal many things immediately, validating or discarding hypotheses early on in a *Data Science* project.\n",
        "\n",
        "## Dataset used in this project\n",
        "\n",
        "To discover and understand some of these principal concepts of statistics. I used a dataset from **[MillionSongSubset(http://millionsongdataset.com/pages/getting-dataset/)**, which is a freely available collection of audio features and metadata for a million contemporary popular music tracks."
      ]
    },
    {
      "cell_type": "code",
      "metadata": {
        "id": "UuiLyddwtqIr"
      },
      "source": [
        "# import packages\n",
        "import pandas as pd"
      ],
      "execution_count": null,
      "outputs": []
    },
    {
      "cell_type": "code",
      "metadata": {
        "id": "46LUMumgzcJi"
      },
      "source": [
        "# import dataset\n",
        "df = pd.read_json('https://raw.githubusercontent.com/msilvadev/Data-Science-Portfolio/main/utils/song_data.json', lines=True)"
      ],
      "execution_count": 3,
      "outputs": []
    },
    {
      "cell_type": "code",
      "metadata": {
        "colab": {
          "base_uri": "https://localhost:8080/",
          "height": 206
        },
        "id": "aruPMkD-Raom",
        "outputId": "38ebcd5d-8006-46f8-b74b-e1bbeab14f3e"
      },
      "source": [
        "# show first 5 lines\n",
        "df.head()"
      ],
      "execution_count": 5,
      "outputs": [
        {
          "output_type": "execute_result",
          "data": {
            "text/html": [
              "<div>\n",
              "<style scoped>\n",
              "    .dataframe tbody tr th:only-of-type {\n",
              "        vertical-align: middle;\n",
              "    }\n",
              "\n",
              "    .dataframe tbody tr th {\n",
              "        vertical-align: top;\n",
              "    }\n",
              "\n",
              "    .dataframe thead th {\n",
              "        text-align: right;\n",
              "    }\n",
              "</style>\n",
              "<table border=\"1\" class=\"dataframe\">\n",
              "  <thead>\n",
              "    <tr style=\"text-align: right;\">\n",
              "      <th></th>\n",
              "      <th>num_songs</th>\n",
              "      <th>artist_id</th>\n",
              "      <th>artist_latitude</th>\n",
              "      <th>artist_longitude</th>\n",
              "      <th>artist_location</th>\n",
              "      <th>artist_name</th>\n",
              "      <th>song_id</th>\n",
              "      <th>title</th>\n",
              "      <th>duration</th>\n",
              "      <th>year</th>\n",
              "    </tr>\n",
              "  </thead>\n",
              "  <tbody>\n",
              "    <tr>\n",
              "      <th>0</th>\n",
              "      <td>1</td>\n",
              "      <td>ARH4Z031187B9A71F2</td>\n",
              "      <td>40.73197</td>\n",
              "      <td>-74.17418</td>\n",
              "      <td>Newark, NJ</td>\n",
              "      <td>Faye Adams</td>\n",
              "      <td>SOVYKGO12AB0187199</td>\n",
              "      <td>Crazy Mixed Up World</td>\n",
              "      <td>156.39465</td>\n",
              "      <td>1961</td>\n",
              "    </tr>\n",
              "    <tr>\n",
              "      <th>1</th>\n",
              "      <td>1</td>\n",
              "      <td>AR7G5I41187FB4CE6C</td>\n",
              "      <td>NaN</td>\n",
              "      <td>NaN</td>\n",
              "      <td>London, England</td>\n",
              "      <td>Adam Ant</td>\n",
              "      <td>SONHOTT12A8C13493C</td>\n",
              "      <td>Something Girls</td>\n",
              "      <td>233.40363</td>\n",
              "      <td>1982</td>\n",
              "    </tr>\n",
              "    <tr>\n",
              "      <th>2</th>\n",
              "      <td>1</td>\n",
              "      <td>ARB29H41187B98F0EF</td>\n",
              "      <td>41.88415</td>\n",
              "      <td>-87.63241</td>\n",
              "      <td>Chicago</td>\n",
              "      <td>Terry Callier</td>\n",
              "      <td>SOGNCJP12A58A80271</td>\n",
              "      <td>Do You Finally Need A Friend</td>\n",
              "      <td>342.56934</td>\n",
              "      <td>1972</td>\n",
              "    </tr>\n",
              "    <tr>\n",
              "      <th>3</th>\n",
              "      <td>1</td>\n",
              "      <td>AR36F9J1187FB406F1</td>\n",
              "      <td>56.27609</td>\n",
              "      <td>9.51695</td>\n",
              "      <td>Denmark</td>\n",
              "      <td>Bombay Rockers</td>\n",
              "      <td>SOBKWDJ12A8C13B2F3</td>\n",
              "      <td>Wild Rose (Back 2 Basics Mix)</td>\n",
              "      <td>230.71302</td>\n",
              "      <td>0</td>\n",
              "    </tr>\n",
              "    <tr>\n",
              "      <th>4</th>\n",
              "      <td>1</td>\n",
              "      <td>ARL7K851187B99ACD2</td>\n",
              "      <td>NaN</td>\n",
              "      <td>NaN</td>\n",
              "      <td></td>\n",
              "      <td>Andy Andy</td>\n",
              "      <td>SOMUYGI12AB0188633</td>\n",
              "      <td>La Culpa</td>\n",
              "      <td>226.35057</td>\n",
              "      <td>0</td>\n",
              "    </tr>\n",
              "  </tbody>\n",
              "</table>\n",
              "</div>"
            ],
            "text/plain": [
              "   num_songs           artist_id  ...   duration  year\n",
              "0          1  ARH4Z031187B9A71F2  ...  156.39465  1961\n",
              "1          1  AR7G5I41187FB4CE6C  ...  233.40363  1982\n",
              "2          1  ARB29H41187B98F0EF  ...  342.56934  1972\n",
              "3          1  AR36F9J1187FB406F1  ...  230.71302     0\n",
              "4          1  ARL7K851187B99ACD2  ...  226.35057     0\n",
              "\n",
              "[5 rows x 10 columns]"
            ]
          },
          "metadata": {
            "tags": []
          },
          "execution_count": 5
        }
      ]
    },
    {
      "cell_type": "markdown",
      "metadata": {
        "id": "rVHdDo-FSCvr"
      },
      "source": [
        "## Descriptive statistics from dataset\n",
        "\n",
        "An easy way to start exploratory analyze of numeric variables is using `describe()` method.\n",
        "\n",
        "* **count** - number of valid entries\n",
        "* **mean** - average of values\n",
        "* **std** - standard deviation\n",
        "* **min** - lowest column value\n",
        "* **25%** - percentil 25\n",
        "* **50%** - percentil 50 (e median)\n",
        "* **75%** - percentil 75\n",
        "* **max** - highest column value"
      ]
    },
    {
      "cell_type": "code",
      "metadata": {
        "colab": {
          "base_uri": "https://localhost:8080/",
          "height": 300
        },
        "id": "C-xPd-rqRjvF",
        "outputId": "8539260c-0006-496d-bc77-749680276a46"
      },
      "source": [
        "df.describe()"
      ],
      "execution_count": 11,
      "outputs": [
        {
          "output_type": "execute_result",
          "data": {
            "text/html": [
              "<div>\n",
              "<style scoped>\n",
              "    .dataframe tbody tr th:only-of-type {\n",
              "        vertical-align: middle;\n",
              "    }\n",
              "\n",
              "    .dataframe tbody tr th {\n",
              "        vertical-align: top;\n",
              "    }\n",
              "\n",
              "    .dataframe thead th {\n",
              "        text-align: right;\n",
              "    }\n",
              "</style>\n",
              "<table border=\"1\" class=\"dataframe\">\n",
              "  <thead>\n",
              "    <tr style=\"text-align: right;\">\n",
              "      <th></th>\n",
              "      <th>num_songs</th>\n",
              "      <th>artist_latitude</th>\n",
              "      <th>artist_longitude</th>\n",
              "      <th>duration</th>\n",
              "      <th>year</th>\n",
              "    </tr>\n",
              "  </thead>\n",
              "  <tbody>\n",
              "    <tr>\n",
              "      <th>count</th>\n",
              "      <td>71.0</td>\n",
              "      <td>31.000000</td>\n",
              "      <td>31.000000</td>\n",
              "      <td>71.000000</td>\n",
              "      <td>71.000000</td>\n",
              "    </tr>\n",
              "    <tr>\n",
              "      <th>mean</th>\n",
              "      <td>1.0</td>\n",
              "      <td>36.552972</td>\n",
              "      <td>-73.251233</td>\n",
              "      <td>239.729676</td>\n",
              "      <td>785.957746</td>\n",
              "    </tr>\n",
              "    <tr>\n",
              "      <th>std</th>\n",
              "      <td>0.0</td>\n",
              "      <td>12.431023</td>\n",
              "      <td>36.058076</td>\n",
              "      <td>106.562779</td>\n",
              "      <td>980.957119</td>\n",
              "    </tr>\n",
              "    <tr>\n",
              "      <th>min</th>\n",
              "      <td>1.0</td>\n",
              "      <td>-13.442000</td>\n",
              "      <td>-122.420050</td>\n",
              "      <td>29.544040</td>\n",
              "      <td>0.000000</td>\n",
              "    </tr>\n",
              "    <tr>\n",
              "      <th>25%</th>\n",
              "      <td>1.0</td>\n",
              "      <td>34.730385</td>\n",
              "      <td>-92.039350</td>\n",
              "      <td>170.722810</td>\n",
              "      <td>0.000000</td>\n",
              "    </tr>\n",
              "    <tr>\n",
              "      <th>50%</th>\n",
              "      <td>1.0</td>\n",
              "      <td>38.899100</td>\n",
              "      <td>-80.112780</td>\n",
              "      <td>228.597100</td>\n",
              "      <td>0.000000</td>\n",
              "    </tr>\n",
              "    <tr>\n",
              "      <th>75%</th>\n",
              "      <td>1.0</td>\n",
              "      <td>40.910475</td>\n",
              "      <td>-73.986780</td>\n",
              "      <td>286.366890</td>\n",
              "      <td>1992.500000</td>\n",
              "    </tr>\n",
              "    <tr>\n",
              "      <th>max</th>\n",
              "      <td>1.0</td>\n",
              "      <td>56.276090</td>\n",
              "      <td>15.967600</td>\n",
              "      <td>599.248530</td>\n",
              "      <td>2008.000000</td>\n",
              "    </tr>\n",
              "  </tbody>\n",
              "</table>\n",
              "</div>"
            ],
            "text/plain": [
              "       num_songs  artist_latitude  artist_longitude    duration         year\n",
              "count       71.0        31.000000         31.000000   71.000000    71.000000\n",
              "mean         1.0        36.552972        -73.251233  239.729676   785.957746\n",
              "std          0.0        12.431023         36.058076  106.562779   980.957119\n",
              "min          1.0       -13.442000       -122.420050   29.544040     0.000000\n",
              "25%          1.0        34.730385        -92.039350  170.722810     0.000000\n",
              "50%          1.0        38.899100        -80.112780  228.597100     0.000000\n",
              "75%          1.0        40.910475        -73.986780  286.366890  1992.500000\n",
              "max          1.0        56.276090         15.967600  599.248530  2008.000000"
            ]
          },
          "metadata": {
            "tags": []
          },
          "execution_count": 11
        }
      ]
    },
    {
      "cell_type": "markdown",
      "metadata": {
        "id": "JkTvD8PdT8Sm"
      },
      "source": [
        "## Mean\n",
        "\n",
        "If we want to get the mean of some numeric variable, just run the `mean()` method on the Series. That is, just select that particular column and execute `mean()`.\n"
      ]
    },
    {
      "cell_type": "code",
      "metadata": {
        "colab": {
          "base_uri": "https://localhost:8080/"
        },
        "id": "V2b44vlnR1ij",
        "outputId": "28cfde8c-523c-4234-f3ab-1f8d22a5ab81"
      },
      "source": [
        "df.duration.mean()"
      ],
      "execution_count": 12,
      "outputs": [
        {
          "output_type": "execute_result",
          "data": {
            "text/plain": [
              "239.72967605633798"
            ]
          },
          "metadata": {
            "tags": []
          },
          "execution_count": 12
        }
      ]
    },
    {
      "cell_type": "markdown",
      "metadata": {
        "id": "6Y7_hAf3Ua01"
      },
      "source": [
        "## Median\n",
        "\n",
        "If we want to get the median of some numeric variable, just run the `median()` method on the Series. That is, just select that particular column and execute `median()`."
      ]
    },
    {
      "cell_type": "code",
      "metadata": {
        "colab": {
          "base_uri": "https://localhost:8080/"
        },
        "id": "ChezUk2WUSvV",
        "outputId": "7e9cb00d-568c-4ee1-fefc-8d5e30ea24ae"
      },
      "source": [
        "df.duration.median()"
      ],
      "execution_count": 13,
      "outputs": [
        {
          "output_type": "execute_result",
          "data": {
            "text/plain": [
              "228.5971"
            ]
          },
          "metadata": {
            "tags": []
          },
          "execution_count": 13
        }
      ]
    },
    {
      "cell_type": "markdown",
      "metadata": {
        "id": "J2za3K0uUssO"
      },
      "source": [
        "## Standard deviation\n",
        "\n",
        "Standard deviation is a measure of dispersion around the population mean of a variable.\n",
        "\n",
        "$$SD = \\sqrt{\\frac{1}{n}\\sum_{i=1}^{n}(x_i - \\overline{x}) ^ 2}$$\n",
        "\n",
        "Simply put, a high standard deviation number indicates that the data is well mirrored about its mean. A low standard deviation shows that the values ​​are more grouped, more \"together\".\n",
        "\n",
        "For example, in the figure below we have an example of high and low values ​​for the standard deviation. In red the data is closer to its average, and in blue it is much more spread out.\n",
        "\n",
        "<center><img src=\"https://upload.wikimedia.org/wikipedia/commons/thumb/f/f9/Comparison_standard_deviations.svg/400px-Comparison_standard_deviations.svg.png\"></center>\n",
        "\n",
        "For those who are not used to distribution graphics, an example that works very well is target shooting.\n",
        "\n",
        "Look at the figure below how the shots are located in each of the situations. Mentally identify which ones have greater or lesser dispersion, that is, standard deviation.\n",
        "\n",
        "<center><img src=\"https://raw.githubusercontent.com/carlosfab/dsnp2/master/img/precisao_exatidao.jpg\" height=\"250px\"></center>\n",
        "\n",
        "The concept I need to pay attention to is the flattening of the curve. How values ​​\"cluster\" around the mean or scatter around it. See also this other figure below, placing the distributions side by side.\n",
        "\n",
        "<center><img src=\"https://raw.githubusercontent.com/carlosfab/dsnp2/master/img/precisao_vs_exatidao2.jpg\" height=\"200px\"></center>\n",
        "\n",
        "To calculate the standard deviation of any column, just run the `std()` method for the variable."
      ]
    },
    {
      "cell_type": "code",
      "metadata": {
        "colab": {
          "base_uri": "https://localhost:8080/"
        },
        "id": "MUfWyzI5UixZ",
        "outputId": "410366a4-ccaa-427c-9d70-868bbd731d5f"
      },
      "source": [
        "df.duration.std()"
      ],
      "execution_count": 14,
      "outputs": [
        {
          "output_type": "execute_result",
          "data": {
            "text/plain": [
              "106.56277912134071"
            ]
          },
          "metadata": {
            "tags": []
          },
          "execution_count": 14
        }
      ]
    },
    {
      "cell_type": "markdown",
      "metadata": {
        "id": "Ocl-L1MHVjvx"
      },
      "source": [
        "## Maximum and Minimum Values"
      ]
    },
    {
      "cell_type": "code",
      "metadata": {
        "colab": {
          "base_uri": "https://localhost:8080/"
        },
        "id": "YiODYamxVZcX",
        "outputId": "1685777e-af24-4cdf-d5ad-af79f24db83c"
      },
      "source": [
        "df.duration.max()"
      ],
      "execution_count": 17,
      "outputs": [
        {
          "output_type": "execute_result",
          "data": {
            "text/plain": [
              "599.24853"
            ]
          },
          "metadata": {
            "tags": []
          },
          "execution_count": 17
        }
      ]
    },
    {
      "cell_type": "code",
      "metadata": {
        "colab": {
          "base_uri": "https://localhost:8080/"
        },
        "id": "s3eOtbmjVndq",
        "outputId": "5cdd071c-b1f0-4d2e-d14a-883698cafb84"
      },
      "source": [
        "df.duration.min()"
      ],
      "execution_count": 19,
      "outputs": [
        {
          "output_type": "execute_result",
          "data": {
            "text/plain": [
              "29.54404"
            ]
          },
          "metadata": {
            "tags": []
          },
          "execution_count": 19
        }
      ]
    },
    {
      "cell_type": "code",
      "metadata": {
        "colab": {
          "base_uri": "https://localhost:8080/",
          "height": 607
        },
        "id": "LT7BL4nBWCtm",
        "outputId": "b3728e60-5a3e-4793-931f-6b09d5eba16d"
      },
      "source": [
        "# Histogram of numeric variables\n",
        "df.hist(bins=15, figsize=(15,10));"
      ],
      "execution_count": 30,
      "outputs": [
        {
          "output_type": "display_data",
          "data": {
            "image/png": "[encoded data removed]",
            "text/plain": [
              "<Figure size 1080x720 with 6 Axes>"
            ]
          },
          "metadata": {
            "tags": [],
            "needs_background": "light"
          }
        }
      ]
    },
    {
      "cell_type": "code",
      "metadata": {
        "id": "hK0t8UsEWuJz"
      },
      "source": [
        ""
      ],
      "execution_count": null,
      "outputs": []
    }
  ]
}