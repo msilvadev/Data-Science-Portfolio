{
  "nbformat": 4,
  "nbformat_minor": 0,
  "metadata": {
    "colab": {
      "name": "Scala in Colab Template.ipynb",
      "provenance": [],
      "collapsed_sections": [],
      "toc_visible": true
    },
    "kernelspec": {
      "display_name": "Scala",
      "language": "scala",
      "name": "scala"
    }
  },
  "cells": [
    {
      "cell_type": "markdown",
      "metadata": {
        "id": "up2G8zDbhsEN"
      },
      "source": [
        "# **Scala in Colab**"
      ]
    },
    {
      "cell_type": "markdown",
      "metadata": {
        "id": "sL1Vq6r6J6dA"
      },
      "source": [
        "## 1. Instalar Kernel para Scala\n",
        "\n",
        "Se não for reconhecido o kernel quando carregar o notebook pela primeira vez, execute as duas células abaixo. Feito isso **recarregue a página** para carregar o notebook com o Kernel do Scala instalado."
      ]
    },
    {
      "cell_type": "code",
      "metadata": {
        "id": "RoCcdvTCAqeR"
      },
      "source": [
        "%%shell\n",
        "SCALA_VERSION=2.12.8 ALMOND_VERSION=0.3.0+16-548dc10f-SNAPSHOT\n",
        "curl -Lo coursier https://git.io/coursier-cli\n",
        "chmod +x coursier\n",
        "./coursier bootstrap \\\n",
        "    -r jitpack -r sonatype:snapshots \\\n",
        "    -i user -I user:sh.almond:scala-kernel-api_$SCALA_VERSION:$ALMOND_VERSION \\\n",
        "    sh.almond:scala-kernel_$SCALA_VERSION:$ALMOND_VERSION \\\n",
        "    --sources --default=true \\\n",
        "    -o almond-snapshot --embed-files=false\n",
        "rm coursier\n",
        "./almond-snapshot --install --global --force\n",
        "rm almond-snapshot"
      ],
      "execution_count": null,
      "outputs": []
    },
    {
      "cell_type": "code",
      "metadata": {
        "id": "BZchIo9sArF4"
      },
      "source": [
        "%%shell\n",
        "echo \"{\n",
        "  \\\"language\\\" : \\\"scala\\\",\n",
        "  \\\"display_name\\\" : \\\"Scala\\\",\n",
        "  \\\"argv\\\" : [\n",
        "    \\\"bash\\\",\n",
        "    \\\"-c\\\",\n",
        "    \\\"env LD_PRELOAD=/usr/lib/x86_64-linux-gnu/libpython3.6m.so:\\$LD_PRELOAD java -jar /usr/local/share/jupyter/kernels/scala/launcher.jar --connection-file {connection_file}\\\"\n",
        "  ]\n",
        "}\" > /usr/local/share/jupyter/kernels/scala/kernel.json"
      ],
      "execution_count": null,
      "outputs": []
    },
    {
      "cell_type": "markdown",
      "metadata": {
        "id": "kQe78pN0OSuq"
      },
      "source": [
        "## 2. Exemplo para executar e testar se está tudo certo"
      ]
    },
    {
      "cell_type": "code",
      "metadata": {
        "id": "a9z0PxRg_iOp",
        "colab": {
          "base_uri": "https://localhost:8080/"
        },
        "outputId": "016331a6-5537-4ad9-fe80-e81521d0d9fe"
      },
      "source": [
        "def show(name: String) { println(\"You Rock \" + name) }\n",
        "\n",
        "show(\"<Your Name>\")"
      ],
      "execution_count": 4,
      "outputs": [
        {
          "output_type": "stream",
          "text": [
            "You Rock <Your Name>\n"
          ],
          "name": "stdout"
        },
        {
          "output_type": "execute_result",
          "data": {
            "text/plain": [
              "defined \u001b[32mfunction\u001b[39m \u001b[36mshow\u001b[39m"
            ]
          },
          "metadata": {
            "tags": []
          },
          "execution_count": 4
        }
      ]
    }
  ]
}