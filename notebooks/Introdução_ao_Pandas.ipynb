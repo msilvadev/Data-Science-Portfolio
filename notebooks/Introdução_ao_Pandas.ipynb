{
  "nbformat": 4,
  "nbformat_minor": 0,
  "metadata": {
    "colab": {
      "name": "Introdução ao Pandas.ipynb",
      "provenance": [],
      "collapsed_sections": [],
      "toc_visible": true,
      "include_colab_link": true
    },
    "kernelspec": {
      "name": "python3",
      "display_name": "Python 3"
    }
  },
  "cells": [
    {
      "cell_type": "markdown",
      "metadata": {
        "id": "view-in-github",
        "colab_type": "text"
      },
      "source": [
        "<a href=\"https://colab.research.google.com/github/msilvadev/Data-Science-Portfolio/blob/main/notebooks/Introdu%C3%A7%C3%A3o_ao_Pandas.ipynb\" target=\"_parent\"><img src=\"https://colab.research.google.com/assets/colab-badge.svg\" alt=\"Open In Colab\"/></a>"
      ]
    },
    {
      "cell_type": "markdown",
      "metadata": {
        "id": "vvplGyW2N3rX"
      },
      "source": [
        "<center><img src=\"https://raw.githubusercontent.com/msilvadev/Data-Science-Portfolio/main/banner.png\"></center>\n",
        "\n",
        "*by [Matheus Silva](https://www.linkedin.com/in/msilvadev/)*\n",
        "\n",
        "---\n",
        "\n",
        "# Introdução ao Pandas\n",
        "\n",
        "Pandas é uma biblioteca do Python, provavelmente a mais popular de todas quando se trata de *Data Science*.\n",
        "\n",
        "Por meio do Pandas, você consegue importar dados (arquivos `csv`e `xls`, por exemplo), tratar esses dados, transformá-los e realizar análises completas dos mesmos.\n",
        "\n",
        "Uma vez que você importa um conjunto de dados usando Pandas, fica muito fácil fazer coisas do tipo:\n",
        "\n",
        "* Extrai informações estatísticas\n",
        "  * Qual a média, mediana, valores máximos e mínimos?\n",
        "  * Qual é a distribuição das suas variáveis?\n",
        "  * Qual a correlação entre duas variáveis quaisquer?\n",
        "* Exportar os dados para um novo formato de arquivo\n",
        "* Visualizar gráficos dos mais diferentes tipos\n",
        "* Alimentar modelos de *machine learning* feitos em cima do Scikit-learn\n",
        "\n",
        "Pandas é construído em cima de outra biblioteca extremamente popular, o **NumPy**. Quem já utilizou esta, vai encontrar muita similaridade com aquela."
      ]
    },
    {
      "cell_type": "markdown",
      "metadata": {
        "id": "NtGy-OuUS6ba"
      },
      "source": [
        "## Instalando e utilizando o Pandas\n",
        "\n",
        "Caso você esteja rodando o código na sua máquina local, o Pandas pode ser instalado pela linha de comando usando o seu gerenciador de pacotes (`pip` ou `conda`).\n",
        "\n",
        "Dependendo de qual deles seja, o comando que você deve usar é\n",
        "\n",
        "`pip install pandas`\n",
        "\n",
        "ou \n",
        "\n",
        "`conda install pandas`\n",
        "\n",
        "Como estamos usando o Colab neste curso, o Pandas vem instalado por padrão. Ou seja, a única coisa que você precisa é importar o pacote. Normalmente, para importar qualquer pacote basta apenas usar o comando `import nome_do_pacote`.\n",
        "\n",
        "No entanto, é muito comum a gente importar o Pandas usando `import pandas as pd` para abreviar o nome da biblioteca. Se você reparar em projetos de outros cientistas de dados, vai ver que esse é (provavelmente) a maneira que eles utilizam."
      ]
    },
    {
      "cell_type": "code",
      "metadata": {
        "id": "e3hcsBp1TdWE"
      },
      "source": [
        "# importar a biblioteca pandas\n",
        "import pandas as pd"
      ],
      "execution_count": 1,
      "outputs": []
    },
    {
      "cell_type": "markdown",
      "metadata": {
        "id": "SQPlLLa_b4qC"
      },
      "source": [
        "### Importar arquivos `csv`\n",
        "\n",
        "Para dar um exemplo de como é simples importar dados com o Pandas, veja o seguinte exemplo.\n",
        "\n",
        "Pelo site [Yahoo Finance](https://finance.yahoo.com/quote/B3SA3.SA/history?p=B3SA3.SA), baixei os dados da ação ordinária do Banco do Brasil (B3SA3) em formato `csv` e disponibilizei o arquivo [neste link](https://raw.githubusercontent.com/msilvadev/Data-Science-Portfolio/main/datasets/B3SA3.SA.csv). Se eu abrir esse arquivo na minha máquina pelo Excel, é assim que ele vai aparecer para mim:\n",
        "\n",
        "<center><img src=\"https://raw.githubusercontent.com/msilvadev/Data-Science-Portfolio/main/imgs/B3SA3%20dataset.png\" height=\"300px\"></center>\n",
        "\n",
        "Importar esse mesmo arquivo usando o Pandas é tão simples quanto executar a função `pd.read_csv(\"local_do_arquivo.csv\")`, informando qual o endereço que o `csv` se encontra (endereço na internet ou caminho na máquia local.\n",
        "\n"
      ]
    },
    {
      "cell_type": "code",
      "metadata": {
        "id": "ve_UpCilezaa"
      },
      "source": [
        "# importar o arquivo csv para o Pandas\n",
        "df = pd.read_csv(\"https://raw.githubusercontent.com/msilvadev/Data-Science-Portfolio/main/datasets/B3SA3.SA.csv\")"
      ],
      "execution_count": 4,
      "outputs": []
    },
    {
      "cell_type": "markdown",
      "metadata": {
        "id": "z-5wV1LoUJqR"
      },
      "source": [
        "Pronto! O arquivo `B3SA3.SA.csv` foi importado com sucesso e já está pronto para ser usado neste *notebook*. \n",
        "\n",
        "### Conhecendo os componentes básicos do Pandas\n",
        "\n",
        "Os dois componentes básicos que a gente deve conhecer quando lidando com Pandas são `Series` e `DataFrame`. \n",
        "\n",
        "<center><img src=\"https://raw.githubusercontent.com/msilvadev/Data-Science-Portfolio/main/imgs/componentes_pandas.png\"></center>\n",
        "\n",
        "Simplificadamente, você pode pensar o `DataFrame` como sendo uma planilha de Excel, e `Series` como sendo apenas uma coluna individual.\n",
        "\n",
        "Apesar de parecer conceitualmente simples, estas duas estruturas nativas do Pandas facilitam muito o trabalho com dados, uma vez que elas podem armazenar qualquer tipo de dado.\n",
        "\n",
        "* `type()` - mostra qual o tipo da variável\n"
      ]
    },
    {
      "cell_type": "code",
      "metadata": {
        "id": "f-sqkuQwaRuc",
        "colab": {
          "base_uri": "https://localhost:8080/"
        },
        "outputId": "a096c3e4-8c05-46ec-bb53-7c6de01e76ec"
      },
      "source": [
        "# ver o tipo da variável df\n",
        "type(df)"
      ],
      "execution_count": 11,
      "outputs": [
        {
          "output_type": "execute_result",
          "data": {
            "text/plain": [
              "pandas.core.frame.DataFrame"
            ]
          },
          "metadata": {
            "tags": []
          },
          "execution_count": 11
        }
      ]
    },
    {
      "cell_type": "code",
      "metadata": {
        "id": "8BPjwOX4hYk2",
        "colab": {
          "base_uri": "https://localhost:8080/"
        },
        "outputId": "d51bc0bb-94b1-4b1f-8913-f8a97c2fa657"
      },
      "source": [
        "# ver o tipo de uma coluna da variável df\n",
        "type(df['Date'])"
      ],
      "execution_count": 12,
      "outputs": [
        {
          "output_type": "execute_result",
          "data": {
            "text/plain": [
              "pandas.core.series.Series"
            ]
          },
          "metadata": {
            "tags": []
          },
          "execution_count": 12
        }
      ]
    },
    {
      "cell_type": "markdown",
      "metadata": {
        "id": "4A-F1ajofEjs"
      },
      "source": [
        "### Ver dimensões do DataFrame\n",
        "\n",
        "Veja novamente a imagem acima. Basicamente, o arquivo que importamos se parece com uma simples tabela de Excel, composta por linhas e colunas. Para você ver o tamanho dessa \"tabela\", o que significa ver o formato (*shape*) dela, basta executar `df.shape`."
      ]
    },
    {
      "cell_type": "code",
      "metadata": {
        "id": "fkap8AgUgG-5",
        "colab": {
          "base_uri": "https://localhost:8080/"
        },
        "outputId": "92b0ef4b-3609-4a4e-c761-3351d4ca977d"
      },
      "source": [
        "# ver o tamanho do dataframe (formato)\n",
        "df.shape"
      ],
      "execution_count": 17,
      "outputs": [
        {
          "output_type": "execute_result",
          "data": {
            "text/plain": [
              "(246, 7)"
            ]
          },
          "metadata": {
            "tags": []
          },
          "execution_count": 17
        }
      ]
    },
    {
      "cell_type": "markdown",
      "metadata": {
        "id": "-yQEWd6NgGxu"
      },
      "source": [
        "Quando você executar a célula acima, vai receber como *output* os valores `(246, 7)`. Isso significa que o arquivo importado possui 246 linhas e 7 colunas. "
      ]
    },
    {
      "cell_type": "markdown",
      "metadata": {
        "id": "hZgh2AUswAC1"
      },
      "source": [
        "#### Visualizar apenas umaa dimensão\n",
        "É possível selecionar apenas uma das dimensões do nosso `dataframe`."
      ]
    },
    {
      "cell_type": "code",
      "metadata": {
        "colab": {
          "base_uri": "https://localhost:8080/"
        },
        "id": "EH6yrXeUwVZ1",
        "outputId": "95a12ad4-373a-4a47-df22-0c177e793687"
      },
      "source": [
        "# ver apenas a quantidade de linhas do nosso dataframe\n",
        "df.shape[0]"
      ],
      "execution_count": 19,
      "outputs": [
        {
          "output_type": "execute_result",
          "data": {
            "text/plain": [
              "246"
            ]
          },
          "metadata": {
            "tags": []
          },
          "execution_count": 19
        }
      ]
    },
    {
      "cell_type": "code",
      "metadata": {
        "colab": {
          "base_uri": "https://localhost:8080/"
        },
        "id": "Hd1_MnYNwiZw",
        "outputId": "0bd54ae1-60a7-4ecc-d28d-095e6aff3df8"
      },
      "source": [
        "# ver apenas a quantidade de colunas do nosso dataframe\n",
        "df.shape[1]"
      ],
      "execution_count": 20,
      "outputs": [
        {
          "output_type": "execute_result",
          "data": {
            "text/plain": [
              "7"
            ]
          },
          "metadata": {
            "tags": []
          },
          "execution_count": 20
        }
      ]
    },
    {
      "cell_type": "markdown",
      "metadata": {
        "id": "PWKUeDZrwvVt"
      },
      "source": [
        "### Conhecendo os dados\n",
        "\n",
        "Uma vez que você importou a sua base de dados para o Pandas, existem muitos atributos e métodos nativos da estrutura *DataFrame* que facilitam muito a exploração de dados.\n",
        "\n",
        "Uma das principais funções da biblioteca, e que você irá usar em praticamente todos os seus projetos é `df.head()` e `df.tail()`.\n",
        "\n",
        "O arquivo `csv` com os dados da ação B3SA3 contém 246 linhas, mas o normal é você lidar com milhares ou centenas de milhares de linhas. Obviamente, seria inviável se tivessemos que olhar cada linha para entender como os dados estão apresentados.\n",
        "\n",
        "Na verdade, quando a gente importa um *dataset*, queremos dar uma olhadinha rápida em algumas entradas, só para ter noção dos dados que iremos lidar. Isso é feito facilmente com:\n",
        "\n",
        "* `df.head()` - exibe as 5 primeiras entradas do conjunto de dados\n",
        "* `df.tail()` - exibe as 5 últimas entradas do conjunto de dados"
      ]
    },
    {
      "cell_type": "code",
      "metadata": {
        "id": "24DU6xs3wu_Y",
        "colab": {
          "base_uri": "https://localhost:8080/",
          "height": 206
        },
        "outputId": "5b2cca3e-d9c7-4cdd-bfbc-825da05cdf2b"
      },
      "source": [
        "# mostrar as 5 primeiras entradas do DataFrame\n",
        "df.head()"
      ],
      "execution_count": 21,
      "outputs": [
        {
          "output_type": "execute_result",
          "data": {
            "text/html": [
              "<div>\n",
              "<style scoped>\n",
              "    .dataframe tbody tr th:only-of-type {\n",
              "        vertical-align: middle;\n",
              "    }\n",
              "\n",
              "    .dataframe tbody tr th {\n",
              "        vertical-align: top;\n",
              "    }\n",
              "\n",
              "    .dataframe thead th {\n",
              "        text-align: right;\n",
              "    }\n",
              "</style>\n",
              "<table border=\"1\" class=\"dataframe\">\n",
              "  <thead>\n",
              "    <tr style=\"text-align: right;\">\n",
              "      <th></th>\n",
              "      <th>Date</th>\n",
              "      <th>Open</th>\n",
              "      <th>High</th>\n",
              "      <th>Low</th>\n",
              "      <th>Close</th>\n",
              "      <th>Adj Close</th>\n",
              "      <th>Volume</th>\n",
              "    </tr>\n",
              "  </thead>\n",
              "  <tbody>\n",
              "    <tr>\n",
              "      <th>0</th>\n",
              "      <td>2020-06-22</td>\n",
              "      <td>17.049999</td>\n",
              "      <td>17.160000</td>\n",
              "      <td>16.600000</td>\n",
              "      <td>16.776667</td>\n",
              "      <td>16.145081</td>\n",
              "      <td>22384200.0</td>\n",
              "    </tr>\n",
              "    <tr>\n",
              "      <th>1</th>\n",
              "      <td>2020-06-23</td>\n",
              "      <td>16.943333</td>\n",
              "      <td>17.546665</td>\n",
              "      <td>16.883333</td>\n",
              "      <td>17.426666</td>\n",
              "      <td>16.770609</td>\n",
              "      <td>40578300.0</td>\n",
              "    </tr>\n",
              "    <tr>\n",
              "      <th>2</th>\n",
              "      <td>2020-06-24</td>\n",
              "      <td>17.436666</td>\n",
              "      <td>17.879999</td>\n",
              "      <td>17.236666</td>\n",
              "      <td>17.549999</td>\n",
              "      <td>16.889299</td>\n",
              "      <td>36292200.0</td>\n",
              "    </tr>\n",
              "    <tr>\n",
              "      <th>3</th>\n",
              "      <td>2020-06-25</td>\n",
              "      <td>17.600000</td>\n",
              "      <td>18.356667</td>\n",
              "      <td>17.546665</td>\n",
              "      <td>18.333332</td>\n",
              "      <td>17.643141</td>\n",
              "      <td>32242200.0</td>\n",
              "    </tr>\n",
              "    <tr>\n",
              "      <th>4</th>\n",
              "      <td>2020-06-26</td>\n",
              "      <td>18.213333</td>\n",
              "      <td>18.396666</td>\n",
              "      <td>17.633333</td>\n",
              "      <td>17.816666</td>\n",
              "      <td>17.145927</td>\n",
              "      <td>28312500.0</td>\n",
              "    </tr>\n",
              "  </tbody>\n",
              "</table>\n",
              "</div>"
            ],
            "text/plain": [
              "         Date       Open       High  ...      Close  Adj Close      Volume\n",
              "0  2020-06-22  17.049999  17.160000  ...  16.776667  16.145081  22384200.0\n",
              "1  2020-06-23  16.943333  17.546665  ...  17.426666  16.770609  40578300.0\n",
              "2  2020-06-24  17.436666  17.879999  ...  17.549999  16.889299  36292200.0\n",
              "3  2020-06-25  17.600000  18.356667  ...  18.333332  17.643141  32242200.0\n",
              "4  2020-06-26  18.213333  18.396666  ...  17.816666  17.145927  28312500.0\n",
              "\n",
              "[5 rows x 7 columns]"
            ]
          },
          "metadata": {
            "tags": []
          },
          "execution_count": 21
        }
      ]
    },
    {
      "cell_type": "code",
      "metadata": {
        "id": "TGf020rXwu0T",
        "colab": {
          "base_uri": "https://localhost:8080/",
          "height": 206
        },
        "outputId": "89516040-8f49-4031-fa7b-6164946a14a4"
      },
      "source": [
        "# mostrar as 5 últimas entradas do DataFrame\n",
        "df.tail()"
      ],
      "execution_count": 22,
      "outputs": [
        {
          "output_type": "execute_result",
          "data": {
            "text/html": [
              "<div>\n",
              "<style scoped>\n",
              "    .dataframe tbody tr th:only-of-type {\n",
              "        vertical-align: middle;\n",
              "    }\n",
              "\n",
              "    .dataframe tbody tr th {\n",
              "        vertical-align: top;\n",
              "    }\n",
              "\n",
              "    .dataframe thead th {\n",
              "        text-align: right;\n",
              "    }\n",
              "</style>\n",
              "<table border=\"1\" class=\"dataframe\">\n",
              "  <thead>\n",
              "    <tr style=\"text-align: right;\">\n",
              "      <th></th>\n",
              "      <th>Date</th>\n",
              "      <th>Open</th>\n",
              "      <th>High</th>\n",
              "      <th>Low</th>\n",
              "      <th>Close</th>\n",
              "      <th>Adj Close</th>\n",
              "      <th>Volume</th>\n",
              "    </tr>\n",
              "  </thead>\n",
              "  <tbody>\n",
              "    <tr>\n",
              "      <th>241</th>\n",
              "      <td>2021-06-14</td>\n",
              "      <td>16.240000</td>\n",
              "      <td>16.450001</td>\n",
              "      <td>16.170000</td>\n",
              "      <td>16.320000</td>\n",
              "      <td>16.320000</td>\n",
              "      <td>49076200.0</td>\n",
              "    </tr>\n",
              "    <tr>\n",
              "      <th>242</th>\n",
              "      <td>2021-06-15</td>\n",
              "      <td>16.379999</td>\n",
              "      <td>16.760000</td>\n",
              "      <td>16.280001</td>\n",
              "      <td>16.670000</td>\n",
              "      <td>16.670000</td>\n",
              "      <td>67472700.0</td>\n",
              "    </tr>\n",
              "    <tr>\n",
              "      <th>243</th>\n",
              "      <td>2021-06-16</td>\n",
              "      <td>16.670000</td>\n",
              "      <td>17.250000</td>\n",
              "      <td>16.650000</td>\n",
              "      <td>16.910000</td>\n",
              "      <td>16.910000</td>\n",
              "      <td>108820900.0</td>\n",
              "    </tr>\n",
              "    <tr>\n",
              "      <th>244</th>\n",
              "      <td>2021-06-17</td>\n",
              "      <td>17.059999</td>\n",
              "      <td>17.170000</td>\n",
              "      <td>16.889999</td>\n",
              "      <td>17.170000</td>\n",
              "      <td>17.170000</td>\n",
              "      <td>54573400.0</td>\n",
              "    </tr>\n",
              "    <tr>\n",
              "      <th>245</th>\n",
              "      <td>2021-06-18</td>\n",
              "      <td>17.120001</td>\n",
              "      <td>17.400000</td>\n",
              "      <td>17.070000</td>\n",
              "      <td>17.379999</td>\n",
              "      <td>17.379999</td>\n",
              "      <td>66759800.0</td>\n",
              "    </tr>\n",
              "  </tbody>\n",
              "</table>\n",
              "</div>"
            ],
            "text/plain": [
              "           Date       Open       High  ...      Close  Adj Close       Volume\n",
              "241  2021-06-14  16.240000  16.450001  ...  16.320000  16.320000   49076200.0\n",
              "242  2021-06-15  16.379999  16.760000  ...  16.670000  16.670000   67472700.0\n",
              "243  2021-06-16  16.670000  17.250000  ...  16.910000  16.910000  108820900.0\n",
              "244  2021-06-17  17.059999  17.170000  ...  17.170000  17.170000   54573400.0\n",
              "245  2021-06-18  17.120001  17.400000  ...  17.379999  17.379999   66759800.0\n",
              "\n",
              "[5 rows x 7 columns]"
            ]
          },
          "metadata": {
            "tags": []
          },
          "execution_count": 22
        }
      ]
    },
    {
      "cell_type": "markdown",
      "metadata": {
        "id": "TnLelX9oxGsU"
      },
      "source": [
        "**OBS:** É possível determinar a quantidade de dados que quermos visualizar tanto com o `df.head()` quanto `df.tail()`. Ambos recebem um paraâmetro númerico que determina a quantidade de dados a ser exibido"
      ]
    },
    {
      "cell_type": "code",
      "metadata": {
        "colab": {
          "base_uri": "https://localhost:8080/",
          "height": 112
        },
        "id": "M_jJm0qZxjlh",
        "outputId": "6b154732-e154-4fdc-d7fd-fa91acdab684"
      },
      "source": [
        "# mostrar apenas as 2 primeiras linhas de nosso DataFrame\n",
        "df.head(2)"
      ],
      "execution_count": 23,
      "outputs": [
        {
          "output_type": "execute_result",
          "data": {
            "text/html": [
              "<div>\n",
              "<style scoped>\n",
              "    .dataframe tbody tr th:only-of-type {\n",
              "        vertical-align: middle;\n",
              "    }\n",
              "\n",
              "    .dataframe tbody tr th {\n",
              "        vertical-align: top;\n",
              "    }\n",
              "\n",
              "    .dataframe thead th {\n",
              "        text-align: right;\n",
              "    }\n",
              "</style>\n",
              "<table border=\"1\" class=\"dataframe\">\n",
              "  <thead>\n",
              "    <tr style=\"text-align: right;\">\n",
              "      <th></th>\n",
              "      <th>Date</th>\n",
              "      <th>Open</th>\n",
              "      <th>High</th>\n",
              "      <th>Low</th>\n",
              "      <th>Close</th>\n",
              "      <th>Adj Close</th>\n",
              "      <th>Volume</th>\n",
              "    </tr>\n",
              "  </thead>\n",
              "  <tbody>\n",
              "    <tr>\n",
              "      <th>0</th>\n",
              "      <td>2020-06-22</td>\n",
              "      <td>17.049999</td>\n",
              "      <td>17.160000</td>\n",
              "      <td>16.600000</td>\n",
              "      <td>16.776667</td>\n",
              "      <td>16.145081</td>\n",
              "      <td>22384200.0</td>\n",
              "    </tr>\n",
              "    <tr>\n",
              "      <th>1</th>\n",
              "      <td>2020-06-23</td>\n",
              "      <td>16.943333</td>\n",
              "      <td>17.546665</td>\n",
              "      <td>16.883333</td>\n",
              "      <td>17.426666</td>\n",
              "      <td>16.770609</td>\n",
              "      <td>40578300.0</td>\n",
              "    </tr>\n",
              "  </tbody>\n",
              "</table>\n",
              "</div>"
            ],
            "text/plain": [
              "         Date       Open       High  ...      Close  Adj Close      Volume\n",
              "0  2020-06-22  17.049999  17.160000  ...  16.776667  16.145081  22384200.0\n",
              "1  2020-06-23  16.943333  17.546665  ...  17.426666  16.770609  40578300.0\n",
              "\n",
              "[2 rows x 7 columns]"
            ]
          },
          "metadata": {
            "tags": []
          },
          "execution_count": 23
        }
      ]
    },
    {
      "cell_type": "markdown",
      "metadata": {
        "id": "GLuYhDec-Dfs"
      },
      "source": [
        "Um dos motivos da popularidade do Pandas é por causa dessa capacidade de conseguir mostrar os dados como se estivessem em uma tabela, um formato bem amigável para a compreensão do nosso cérebro.\n",
        "\n",
        "Compare com aquela imagem lá em cima, do Excel. É um formato que estamos bem habituados a enxergar.\n",
        "\n",
        "Vamos supor que você precise extrair apenas os nomes das colunas do seu *DataFrame* - basta executar:"
      ]
    },
    {
      "cell_type": "code",
      "metadata": {
        "id": "8pHWD2yEwun0",
        "colab": {
          "base_uri": "https://localhost:8080/"
        },
        "outputId": "624f3f30-8745-427d-b856-71c3b49b70f5"
      },
      "source": [
        "# ver os nomes das colunas\n",
        "df.columns"
      ],
      "execution_count": 24,
      "outputs": [
        {
          "output_type": "execute_result",
          "data": {
            "text/plain": [
              "Index(['Date', 'Open', 'High', 'Low', 'Close', 'Adj Close', 'Volume'], dtype='object')"
            ]
          },
          "metadata": {
            "tags": []
          },
          "execution_count": 24
        }
      ]
    },
    {
      "cell_type": "markdown",
      "metadata": {
        "id": "GwuMplTsoc72"
      },
      "source": [
        "Conhecer o tipo de variável que está representado em cada coluna é essencial. Por exemplo:\n",
        "\n",
        "* Quando temos uma coluna que trata de receita, despesa ou lucro, é desejável que lidemos com variáveis do tipo `float`.\n",
        "* Quando estamos lidando com anos (2017, 2018, 2019), iremos desejar trabalhar com variáveis do tipo `int`.\n",
        "* Quanto temos datas completas (`2019-12-30 07:37`), iremos desejar usar o formato `datetime`, para conseguir manipular adequadamente o *dataset*.\n",
        "\n",
        "Para conhecer os tipos de variáveis de cada coluna, use `df.dtypes`."
      ]
    },
    {
      "cell_type": "code",
      "metadata": {
        "id": "HjIKHiIypOud",
        "colab": {
          "base_uri": "https://localhost:8080/"
        },
        "outputId": "f35cd809-847e-4152-f865-e29999e643fb"
      },
      "source": [
        "df.dtypes"
      ],
      "execution_count": 25,
      "outputs": [
        {
          "output_type": "execute_result",
          "data": {
            "text/plain": [
              "Date          object\n",
              "Open         float64\n",
              "High         float64\n",
              "Low          float64\n",
              "Close        float64\n",
              "Adj Close    float64\n",
              "Volume       float64\n",
              "dtype: object"
            ]
          },
          "metadata": {
            "tags": []
          },
          "execution_count": 25
        }
      ]
    },
    {
      "cell_type": "markdown",
      "metadata": {
        "id": "C0fYLIiKp4Xn"
      },
      "source": [
        "Uma outra maneira de descobrir o tipo das variáveis e ainda ver os valores ausentes nas células, é por meio do método `df.info()`.\n",
        "\n",
        "Veja como ele consegue retornar essas informações de maneira tabular."
      ]
    },
    {
      "cell_type": "code",
      "metadata": {
        "id": "Ty0cRNRDpWLn",
        "colab": {
          "base_uri": "https://localhost:8080/"
        },
        "outputId": "935b6749-d709-4f17-888f-df8d6904049c"
      },
      "source": [
        "df.info()"
      ],
      "execution_count": 26,
      "outputs": [
        {
          "output_type": "stream",
          "text": [
            "<class 'pandas.core.frame.DataFrame'>\n",
            "RangeIndex: 246 entries, 0 to 245\n",
            "Data columns (total 7 columns):\n",
            " #   Column     Non-Null Count  Dtype  \n",
            "---  ------     --------------  -----  \n",
            " 0   Date       246 non-null    object \n",
            " 1   Open       245 non-null    float64\n",
            " 2   High       245 non-null    float64\n",
            " 3   Low        245 non-null    float64\n",
            " 4   Close      245 non-null    float64\n",
            " 5   Adj Close  245 non-null    float64\n",
            " 6   Volume     245 non-null    float64\n",
            "dtypes: float64(6), object(1)\n",
            "memory usage: 13.6+ KB\n"
          ],
          "name": "stdout"
        }
      ]
    },
    {
      "cell_type": "markdown",
      "metadata": {
        "id": "6gqXaGSfwucC"
      },
      "source": [
        "### Selecionando colunas\n",
        "\n",
        "Há diversas maneiras de selecionar um sub-conjunto de dados em uma estrutura *DataFrame*.\n",
        "\n",
        "Na maioria dos casos, o que queremos fazer é selecionar apenas uma coluna de todo o *DataFrame*.\n",
        "\n",
        "Para selecionar uma variável, você deve colocar o nome da coluna entre colchetes, referenciando a variável onde os seus dados foram importados."
      ]
    },
    {
      "cell_type": "code",
      "metadata": {
        "id": "zkorkp4_wuRf",
        "colab": {
          "base_uri": "https://localhost:8080/"
        },
        "outputId": "fee34fc6-f40e-41ff-9ad5-abff2dc1d795"
      },
      "source": [
        "# selecionar a variável (coluna) \"High\" da nossa variável df\n",
        "df[\"High\"]"
      ],
      "execution_count": 27,
      "outputs": [
        {
          "output_type": "execute_result",
          "data": {
            "text/plain": [
              "0      17.160000\n",
              "1      17.546665\n",
              "2      17.879999\n",
              "3      18.356667\n",
              "4      18.396666\n",
              "         ...    \n",
              "241    16.450001\n",
              "242    16.760000\n",
              "243    17.250000\n",
              "244    17.170000\n",
              "245    17.400000\n",
              "Name: High, Length: 246, dtype: float64"
            ]
          },
          "metadata": {
            "tags": []
          },
          "execution_count": 27
        }
      ]
    },
    {
      "cell_type": "markdown",
      "metadata": {
        "id": "yBmCSgY5riu7"
      },
      "source": [
        "Caso o nome das coluna não contenha espaços em branco e caracteres especiais, você consegue selecionar ela de outra maneira (muito mais prática, na minha opinião).\n",
        "\n",
        "No lugar de `df[\"High\"]` você pode usar `df.High`, que terá o mesmo efeito."
      ]
    },
    {
      "cell_type": "code",
      "metadata": {
        "id": "tnh8IkUtr9S6",
        "colab": {
          "base_uri": "https://localhost:8080/"
        },
        "outputId": "fb9013e1-56d7-4814-e9b8-9818e0b1d48e"
      },
      "source": [
        "# selecionar a variável (coluna) \"High\" da nossa variável df\n",
        "df.High"
      ],
      "execution_count": 28,
      "outputs": [
        {
          "output_type": "execute_result",
          "data": {
            "text/plain": [
              "0      17.160000\n",
              "1      17.546665\n",
              "2      17.879999\n",
              "3      18.356667\n",
              "4      18.396666\n",
              "         ...    \n",
              "241    16.450001\n",
              "242    16.760000\n",
              "243    17.250000\n",
              "244    17.170000\n",
              "245    17.400000\n",
              "Name: High, Length: 246, dtype: float64"
            ]
          },
          "metadata": {
            "tags": []
          },
          "execution_count": 28
        }
      ]
    },
    {
      "cell_type": "markdown",
      "metadata": {
        "id": "rro80XstwuFi"
      },
      "source": [
        "### Calculando a média de uma coluna\n",
        "\n",
        "Quando executamos o código `df.High`, você viu acima que foi impressa apenas a coluna de valores `High`. Para encontrar a média desses valores, basta utilizar `df.High.mean()`."
      ]
    },
    {
      "cell_type": "code",
      "metadata": {
        "id": "drcpq2FXwt5w",
        "colab": {
          "base_uri": "https://localhost:8080/"
        },
        "outputId": "a32e18da-bdba-47b1-d072-a628510d600f"
      },
      "source": [
        "# calcular a média da coluna \"High\"\n",
        "df.High.mean()"
      ],
      "execution_count": 29,
      "outputs": [
        {
          "output_type": "execute_result",
          "data": {
            "text/plain": [
              "19.228489465306108"
            ]
          },
          "metadata": {
            "tags": []
          },
          "execution_count": 29
        }
      ]
    },
    {
      "cell_type": "markdown",
      "metadata": {
        "id": "qlAqNkaOwtug"
      },
      "source": [
        "Isso significa que a média dos valores da coluna `High` é `19.228489465306108`. Como vamos ver ao longo do curso, existem muitas outras medidas importantes."
      ]
    },
    {
      "cell_type": "markdown",
      "metadata": {
        "id": "QG_6v5yTnzqx"
      },
      "source": [
        "## Trabalhando com datas (`datetime`)\n",
        "\n",
        "Quando você importar um arquivo que tenha datas, provavelmente o Pandas não irá reconhecer as mesmas de maneira automática.\n",
        "\n",
        "Quando você checou `df.info()`, viu que a coluna `Date` estava como `object`. No caso, ela é apenas texto (`string`) e não permite a extração de muita coisa útil.\n",
        "\n",
        "Vamos converter a coluna usando `pd.to_datetime` e informando qual o formato da nossa data."
      ]
    },
    {
      "cell_type": "code",
      "metadata": {
        "id": "SBoh5heIvYxg",
        "colab": {
          "base_uri": "https://localhost:8080/"
        },
        "outputId": "52f2a937-ed0e-4173-ecae-c049bf1624b3"
      },
      "source": [
        "# antes\n",
        "df.Date"
      ],
      "execution_count": 30,
      "outputs": [
        {
          "output_type": "execute_result",
          "data": {
            "text/plain": [
              "0      2020-06-22\n",
              "1      2020-06-23\n",
              "2      2020-06-24\n",
              "3      2020-06-25\n",
              "4      2020-06-26\n",
              "          ...    \n",
              "241    2021-06-14\n",
              "242    2021-06-15\n",
              "243    2021-06-16\n",
              "244    2021-06-17\n",
              "245    2021-06-18\n",
              "Name: Date, Length: 246, dtype: object"
            ]
          },
          "metadata": {
            "tags": []
          },
          "execution_count": 30
        }
      ]
    },
    {
      "cell_type": "code",
      "metadata": {
        "id": "90EfusqfvPtF"
      },
      "source": [
        "# converter coluna Date em datetime\n",
        "df.Date = pd.to_datetime(df.Date, format=\"%Y-%m-%d\")"
      ],
      "execution_count": 31,
      "outputs": []
    },
    {
      "cell_type": "markdown",
      "metadata": {
        "id": "dnkasFTJ0IAy"
      },
      "source": [
        "#### pandas to_datetime()\n",
        "Para ver outros tipos de `format` aceitos, podemos consultar na  [documentação oficial](https://docs.python.org/3/library/datetime.html#strftime-and-strptime-behavior)."
      ]
    },
    {
      "cell_type": "code",
      "metadata": {
        "id": "CIyF3LROvjhs",
        "colab": {
          "base_uri": "https://localhost:8080/"
        },
        "outputId": "6fc59561-fa5e-49eb-9c68-f68696808c0d"
      },
      "source": [
        "# depois\n",
        "df.Date"
      ],
      "execution_count": 34,
      "outputs": [
        {
          "output_type": "execute_result",
          "data": {
            "text/plain": [
              "0     2020-06-22\n",
              "1     2020-06-23\n",
              "2     2020-06-24\n",
              "3     2020-06-25\n",
              "4     2020-06-26\n",
              "         ...    \n",
              "241   2021-06-14\n",
              "242   2021-06-15\n",
              "243   2021-06-16\n",
              "244   2021-06-17\n",
              "245   2021-06-18\n",
              "Name: Date, Length: 246, dtype: datetime64[ns]"
            ]
          },
          "metadata": {
            "tags": []
          },
          "execution_count": 34
        }
      ]
    },
    {
      "cell_type": "markdown",
      "metadata": {
        "id": "4ZY1LxSLvqEl"
      },
      "source": [
        "Olhe como agora eu consigo acessar apenas os componentes de uma data, individualmente, usando `df.Date.dt`"
      ]
    },
    {
      "cell_type": "code",
      "metadata": {
        "id": "BWhWxO9jv2W3",
        "colab": {
          "base_uri": "https://localhost:8080/"
        },
        "outputId": "638e75d3-b59f-475b-b6c4-959b5c3e7cc9"
      },
      "source": [
        "df.Date.dt.year"
      ],
      "execution_count": 35,
      "outputs": [
        {
          "output_type": "execute_result",
          "data": {
            "text/plain": [
              "0      2020\n",
              "1      2020\n",
              "2      2020\n",
              "3      2020\n",
              "4      2020\n",
              "       ... \n",
              "241    2021\n",
              "242    2021\n",
              "243    2021\n",
              "244    2021\n",
              "245    2021\n",
              "Name: Date, Length: 246, dtype: int64"
            ]
          },
          "metadata": {
            "tags": []
          },
          "execution_count": 35
        }
      ]
    },
    {
      "cell_type": "code",
      "metadata": {
        "id": "yPg-cHLUwJkT",
        "colab": {
          "base_uri": "https://localhost:8080/"
        },
        "outputId": "be5d63ba-efec-49ff-e2f3-4b6e71ea2933"
      },
      "source": [
        "df.Date.dt.month"
      ],
      "execution_count": 36,
      "outputs": [
        {
          "output_type": "execute_result",
          "data": {
            "text/plain": [
              "0      6\n",
              "1      6\n",
              "2      6\n",
              "3      6\n",
              "4      6\n",
              "      ..\n",
              "241    6\n",
              "242    6\n",
              "243    6\n",
              "244    6\n",
              "245    6\n",
              "Name: Date, Length: 246, dtype: int64"
            ]
          },
          "metadata": {
            "tags": []
          },
          "execution_count": 36
        }
      ]
    },
    {
      "cell_type": "code",
      "metadata": {
        "id": "dKiwxM56wHAb",
        "colab": {
          "base_uri": "https://localhost:8080/"
        },
        "outputId": "91b16e34-1002-4094-a8d0-6e27aba01e48"
      },
      "source": [
        "df.Date.dt.day"
      ],
      "execution_count": 37,
      "outputs": [
        {
          "output_type": "execute_result",
          "data": {
            "text/plain": [
              "0      22\n",
              "1      23\n",
              "2      24\n",
              "3      25\n",
              "4      26\n",
              "       ..\n",
              "241    14\n",
              "242    15\n",
              "243    16\n",
              "244    17\n",
              "245    18\n",
              "Name: Date, Length: 246, dtype: int64"
            ]
          },
          "metadata": {
            "tags": []
          },
          "execution_count": 37
        }
      ]
    },
    {
      "cell_type": "markdown",
      "metadata": {
        "id": "dHzx3aWXvIG2"
      },
      "source": [
        "\n",
        "No entanto, há vários formatos que um usuário pode lançar como sendo datas. Você pode encontrar exemplos como:\n",
        "\n",
        "* 31/06/15\n",
        "* 31/06/2015\n",
        "* 31-6-15\n",
        "* 2015-6-31\n",
        "* 31 de junho de 2015\n",
        "\n",
        "Para lidar com tudo isso, você vai ter que entender a documentação. Seguem dois links que serão úteis para isso:\n",
        "\n",
        "* https://pandas.pydata.org/docs/reference/api/pandas.to_datetime.html?highlight=to_datetime#pandas.to_datetime\n",
        "* https://docs.python.org/3/library/datetime.html#strftime-and-strptime-behavior"
      ]
    },
    {
      "cell_type": "markdown",
      "metadata": {
        "id": "Ar1cfQtv2DHZ"
      },
      "source": [
        "## Conteúdo Extra Aula\n",
        "\n",
        "Teste para entender mais da biblioteca `Pandas`."
      ]
    },
    {
      "cell_type": "code",
      "metadata": {
        "id": "o-tOhsKN1Ge1"
      },
      "source": [
        "# Realiza a cópia do DataFrame original\n",
        "df_bkp = df"
      ],
      "execution_count": 43,
      "outputs": []
    },
    {
      "cell_type": "code",
      "metadata": {
        "id": "3iFrWYoi1hIA"
      },
      "source": [
        "# No DataFrame novo crio uma nova Serie chamada Year, e populo com o ano de linha\n",
        "df_bkp['Year'] = df_bkp.Date.dt.year"
      ],
      "execution_count": 45,
      "outputs": []
    },
    {
      "cell_type": "code",
      "metadata": {
        "colab": {
          "base_uri": "https://localhost:8080/",
          "height": 206
        },
        "id": "oxqyoayV136C",
        "outputId": "107496f4-eff1-4966-cde1-09983681aac3"
      },
      "source": [
        "# Visualizar as 5 primeiras linhas para conferir\n",
        "df_bkp.head()"
      ],
      "execution_count": 48,
      "outputs": [
        {
          "output_type": "execute_result",
          "data": {
            "text/html": [
              "<div>\n",
              "<style scoped>\n",
              "    .dataframe tbody tr th:only-of-type {\n",
              "        vertical-align: middle;\n",
              "    }\n",
              "\n",
              "    .dataframe tbody tr th {\n",
              "        vertical-align: top;\n",
              "    }\n",
              "\n",
              "    .dataframe thead th {\n",
              "        text-align: right;\n",
              "    }\n",
              "</style>\n",
              "<table border=\"1\" class=\"dataframe\">\n",
              "  <thead>\n",
              "    <tr style=\"text-align: right;\">\n",
              "      <th></th>\n",
              "      <th>Date</th>\n",
              "      <th>Open</th>\n",
              "      <th>High</th>\n",
              "      <th>Low</th>\n",
              "      <th>Close</th>\n",
              "      <th>Adj Close</th>\n",
              "      <th>Volume</th>\n",
              "      <th>Year</th>\n",
              "    </tr>\n",
              "  </thead>\n",
              "  <tbody>\n",
              "    <tr>\n",
              "      <th>0</th>\n",
              "      <td>2020-06-22</td>\n",
              "      <td>17.049999</td>\n",
              "      <td>17.160000</td>\n",
              "      <td>16.600000</td>\n",
              "      <td>16.776667</td>\n",
              "      <td>16.145081</td>\n",
              "      <td>22384200.0</td>\n",
              "      <td>2020</td>\n",
              "    </tr>\n",
              "    <tr>\n",
              "      <th>1</th>\n",
              "      <td>2020-06-23</td>\n",
              "      <td>16.943333</td>\n",
              "      <td>17.546665</td>\n",
              "      <td>16.883333</td>\n",
              "      <td>17.426666</td>\n",
              "      <td>16.770609</td>\n",
              "      <td>40578300.0</td>\n",
              "      <td>2020</td>\n",
              "    </tr>\n",
              "    <tr>\n",
              "      <th>2</th>\n",
              "      <td>2020-06-24</td>\n",
              "      <td>17.436666</td>\n",
              "      <td>17.879999</td>\n",
              "      <td>17.236666</td>\n",
              "      <td>17.549999</td>\n",
              "      <td>16.889299</td>\n",
              "      <td>36292200.0</td>\n",
              "      <td>2020</td>\n",
              "    </tr>\n",
              "    <tr>\n",
              "      <th>3</th>\n",
              "      <td>2020-06-25</td>\n",
              "      <td>17.600000</td>\n",
              "      <td>18.356667</td>\n",
              "      <td>17.546665</td>\n",
              "      <td>18.333332</td>\n",
              "      <td>17.643141</td>\n",
              "      <td>32242200.0</td>\n",
              "      <td>2020</td>\n",
              "    </tr>\n",
              "    <tr>\n",
              "      <th>4</th>\n",
              "      <td>2020-06-26</td>\n",
              "      <td>18.213333</td>\n",
              "      <td>18.396666</td>\n",
              "      <td>17.633333</td>\n",
              "      <td>17.816666</td>\n",
              "      <td>17.145927</td>\n",
              "      <td>28312500.0</td>\n",
              "      <td>2020</td>\n",
              "    </tr>\n",
              "  </tbody>\n",
              "</table>\n",
              "</div>"
            ],
            "text/plain": [
              "        Date       Open       High  ...  Adj Close      Volume  Year\n",
              "0 2020-06-22  17.049999  17.160000  ...  16.145081  22384200.0  2020\n",
              "1 2020-06-23  16.943333  17.546665  ...  16.770609  40578300.0  2020\n",
              "2 2020-06-24  17.436666  17.879999  ...  16.889299  36292200.0  2020\n",
              "3 2020-06-25  17.600000  18.356667  ...  17.643141  32242200.0  2020\n",
              "4 2020-06-26  18.213333  18.396666  ...  17.145927  28312500.0  2020\n",
              "\n",
              "[5 rows x 8 columns]"
            ]
          },
          "metadata": {
            "tags": []
          },
          "execution_count": 48
        }
      ]
    }
  ]
}