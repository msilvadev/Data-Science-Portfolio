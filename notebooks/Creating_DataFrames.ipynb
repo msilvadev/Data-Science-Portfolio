{
  "nbformat": 4,
  "nbformat_minor": 0,
  "metadata": {
    "colab": {
      "name": "Creating DataFrames.ipynb",
      "provenance": [],
      "collapsed_sections": [],
      "toc_visible": true,
      "include_colab_link": true
    },
    "kernelspec": {
      "name": "python3",
      "display_name": "Python 3"
    }
  },
  "cells": [
    {
      "cell_type": "markdown",
      "metadata": {
        "id": "view-in-github",
        "colab_type": "text"
      },
      "source": [
        "<a href=\"https://colab.research.google.com/github/msilvadev/Data-Science-Portfolio/blob/main/notebooks/Creating_DataFrames.ipynb\" target=\"_parent\"><img src=\"https://colab.research.google.com/assets/colab-badge.svg\" alt=\"Open In Colab\"/></a>"
      ]
    },
    {
      "cell_type": "markdown",
      "metadata": {
        "id": "vvplGyW2N3rX"
      },
      "source": [
        "<center><img src=\"https://raw.githubusercontent.com/msilvadev/Data-Science-Portfolio/main/banner.png\"></center>\n",
        "\n",
        "*by [Matheus Silva](https://www.linkedin.com/in/msilvadev/)*\n",
        "\n",
        "---\n",
        "\n",
        "# Creating DataFrames\n",
        "\n",
        "In the previous *notebook*, we directly imported a `csv` file from the internet into a *DataFrame* structure. When we use the `pd.read('file.csv')` function, Pandas already understands how it should act about the structure of rows and columns.\n",
        "\n",
        "<center><img src=\"https://raw.githubusercontent.com/carlosfab/curso_data_science_na_pratica/master/modulo_02/from_csv_to_df.png\"></center>\n",
        "\n",
        "However, there is the possibility of creating by hand a * DataFrame * using several techniques."
      ]
    },
    {
      "cell_type": "markdown",
      "metadata": {
        "id": "ug5l9vrTrsap"
      },
      "source": [
        "## DataFrames from a dictionary\n",
        "\n",
        "\n",
        "One of Python's basic structures is the Dictionary. It is very convenient to enter our data in a variable of type `dict`, as its conversion to * DataFrame * is smooth and straightforward."
      ]
    },
    {
      "cell_type": "code",
      "metadata": {
        "id": "bg1TtdzXAIzi"
      },
      "source": [
        "# Library import\n",
        "import pandas as pd"
      ],
      "execution_count": 20,
      "outputs": []
    },
    {
      "cell_type": "code",
      "metadata": {
        "id": "c_0eor9vtkYm"
      },
      "source": [
        "# Creating a Dictionary\n",
        "dic = {\n",
        "    'name': ['Jhon', 'Mike', 'Rocky'],\n",
        "    'age': [55, 56, 34],\n",
        "    'city': ['Chicago', 'Washington', 'Philadelphia']\n",
        "}"
      ],
      "execution_count": 21,
      "outputs": []
    },
    {
      "cell_type": "code",
      "metadata": {
        "id": "-K51-hGnAPBg"
      },
      "source": [
        "# Create DataFrame from dictionary\n",
        "df = pd.DataFrame(dic)"
      ],
      "execution_count": 22,
      "outputs": []
    },
    {
      "cell_type": "code",
      "metadata": {
        "id": "tcrpgd-XAR6b",
        "colab": {
          "base_uri": "https://localhost:8080/",
          "height": 143
        },
        "outputId": "34cbf1db-0a64-472b-d8c3-60dac5e822db"
      },
      "source": [
        "# visualizar DataFrame\n",
        "df"
      ],
      "execution_count": 23,
      "outputs": [
        {
          "output_type": "execute_result",
          "data": {
            "text/html": [
              "<div>\n",
              "<style scoped>\n",
              "    .dataframe tbody tr th:only-of-type {\n",
              "        vertical-align: middle;\n",
              "    }\n",
              "\n",
              "    .dataframe tbody tr th {\n",
              "        vertical-align: top;\n",
              "    }\n",
              "\n",
              "    .dataframe thead th {\n",
              "        text-align: right;\n",
              "    }\n",
              "</style>\n",
              "<table border=\"1\" class=\"dataframe\">\n",
              "  <thead>\n",
              "    <tr style=\"text-align: right;\">\n",
              "      <th></th>\n",
              "      <th>name</th>\n",
              "      <th>age</th>\n",
              "      <th>city</th>\n",
              "    </tr>\n",
              "  </thead>\n",
              "  <tbody>\n",
              "    <tr>\n",
              "      <th>0</th>\n",
              "      <td>Jhon</td>\n",
              "      <td>55</td>\n",
              "      <td>Chicago</td>\n",
              "    </tr>\n",
              "    <tr>\n",
              "      <th>1</th>\n",
              "      <td>Mike</td>\n",
              "      <td>56</td>\n",
              "      <td>Washington</td>\n",
              "    </tr>\n",
              "    <tr>\n",
              "      <th>2</th>\n",
              "      <td>Rocky</td>\n",
              "      <td>34</td>\n",
              "      <td>Philadelphia</td>\n",
              "    </tr>\n",
              "  </tbody>\n",
              "</table>\n",
              "</div>"
            ],
            "text/plain": [
              "    name  age          city\n",
              "0   Jhon   55       Chicago\n",
              "1   Mike   56    Washington\n",
              "2  Rocky   34  Philadelphia"
            ]
          },
          "metadata": {
            "tags": []
          },
          "execution_count": 23
        }
      ]
    },
    {
      "cell_type": "code",
      "metadata": {
        "id": "5zg1mzDUAbAG"
      },
      "source": [
        "# create user id\n",
        "id_user = [8712, 5831, 9873]"
      ],
      "execution_count": 24,
      "outputs": []
    },
    {
      "cell_type": "code",
      "metadata": {
        "id": "N443WKTvAp3G"
      },
      "source": [
        "# associate user id to list\n",
        "df.index = id_user"
      ],
      "execution_count": 26,
      "outputs": []
    },
    {
      "cell_type": "code",
      "metadata": {
        "id": "A6Fhe-svAucS",
        "colab": {
          "base_uri": "https://localhost:8080/",
          "height": 143
        },
        "outputId": "0f403365-0814-4d3f-9463-cbd8e09022f7"
      },
      "source": [
        "# show the dataframe\n",
        "df"
      ],
      "execution_count": 27,
      "outputs": [
        {
          "output_type": "execute_result",
          "data": {
            "text/html": [
              "<div>\n",
              "<style scoped>\n",
              "    .dataframe tbody tr th:only-of-type {\n",
              "        vertical-align: middle;\n",
              "    }\n",
              "\n",
              "    .dataframe tbody tr th {\n",
              "        vertical-align: top;\n",
              "    }\n",
              "\n",
              "    .dataframe thead th {\n",
              "        text-align: right;\n",
              "    }\n",
              "</style>\n",
              "<table border=\"1\" class=\"dataframe\">\n",
              "  <thead>\n",
              "    <tr style=\"text-align: right;\">\n",
              "      <th></th>\n",
              "      <th>name</th>\n",
              "      <th>age</th>\n",
              "      <th>city</th>\n",
              "    </tr>\n",
              "  </thead>\n",
              "  <tbody>\n",
              "    <tr>\n",
              "      <th>8712</th>\n",
              "      <td>Jhon</td>\n",
              "      <td>55</td>\n",
              "      <td>Chicago</td>\n",
              "    </tr>\n",
              "    <tr>\n",
              "      <th>5831</th>\n",
              "      <td>Mike</td>\n",
              "      <td>56</td>\n",
              "      <td>Washington</td>\n",
              "    </tr>\n",
              "    <tr>\n",
              "      <th>9873</th>\n",
              "      <td>Rocky</td>\n",
              "      <td>34</td>\n",
              "      <td>Philadelphia</td>\n",
              "    </tr>\n",
              "  </tbody>\n",
              "</table>\n",
              "</div>"
            ],
            "text/plain": [
              "       name  age          city\n",
              "8712   Jhon   55       Chicago\n",
              "5831   Mike   56    Washington\n",
              "9873  Rocky   34  Philadelphia"
            ]
          },
          "metadata": {
            "tags": []
          },
          "execution_count": 27
        }
      ]
    },
    {
      "cell_type": "markdown",
      "metadata": {
        "id": "Vy7_qfLMuhZE"
      },
      "source": [
        "## DataFrames from Lists\n",
        "\n",
        "Lists are also regularly used structures in Python and are not uncommon having to create *DataFrames* from them.\n",
        "\n",
        "To organize our several lists in a mode which to be easy to convert into *DataFrames*, I'll use the function *built-in* `zip()`."
      ]
    },
    {
      "cell_type": "code",
      "metadata": {
        "id": "szoV_HzFvgDf",
        "colab": {
          "base_uri": "https://localhost:8080/",
          "height": 143
        },
        "outputId": "2d42cc67-4547-4c6f-bc3d-81a6ff27298c"
      },
      "source": [
        "# lists\n",
        "data = [\n",
        "         ['Jhon', 55, 'Chicago'],\n",
        "         ['Mike', 56, 'Washington'],\n",
        "         ['Raquel', 12, 'Philadelphia']\n",
        "        ]\n",
        "\n",
        "# create DataFrame\n",
        "df = pd.DataFrame(data, columns=['name', 'age', 'city'],\n",
        "                  index=[111, 222, 333])\n",
        "\n",
        "# show DataFrame\n",
        "df"
      ],
      "execution_count": 35,
      "outputs": [
        {
          "output_type": "execute_result",
          "data": {
            "text/html": [
              "<div>\n",
              "<style scoped>\n",
              "    .dataframe tbody tr th:only-of-type {\n",
              "        vertical-align: middle;\n",
              "    }\n",
              "\n",
              "    .dataframe tbody tr th {\n",
              "        vertical-align: top;\n",
              "    }\n",
              "\n",
              "    .dataframe thead th {\n",
              "        text-align: right;\n",
              "    }\n",
              "</style>\n",
              "<table border=\"1\" class=\"dataframe\">\n",
              "  <thead>\n",
              "    <tr style=\"text-align: right;\">\n",
              "      <th></th>\n",
              "      <th>name</th>\n",
              "      <th>age</th>\n",
              "      <th>city</th>\n",
              "    </tr>\n",
              "  </thead>\n",
              "  <tbody>\n",
              "    <tr>\n",
              "      <th>111</th>\n",
              "      <td>Jhon</td>\n",
              "      <td>55</td>\n",
              "      <td>Chicago</td>\n",
              "    </tr>\n",
              "    <tr>\n",
              "      <th>222</th>\n",
              "      <td>Mike</td>\n",
              "      <td>56</td>\n",
              "      <td>Washington</td>\n",
              "    </tr>\n",
              "    <tr>\n",
              "      <th>333</th>\n",
              "      <td>Raquel</td>\n",
              "      <td>12</td>\n",
              "      <td>Philadelphia</td>\n",
              "    </tr>\n",
              "  </tbody>\n",
              "</table>\n",
              "</div>"
            ],
            "text/plain": [
              "       name  age          city\n",
              "111    Jhon   55       Chicago\n",
              "222    Mike   56    Washington\n",
              "333  Raquel   12  Philadelphia"
            ]
          },
          "metadata": {
            "tags": []
          },
          "execution_count": 35
        }
      ]
    },
    {
      "cell_type": "code",
      "metadata": {
        "id": "-gr98OrxB3zW",
        "colab": {
          "base_uri": "https://localhost:8080/"
        },
        "outputId": "7063887d-c106-4b97-a6b1-3d8addb95414"
      },
      "source": [
        "# select by index\n",
        "df.loc[111]"
      ],
      "execution_count": 36,
      "outputs": [
        {
          "output_type": "execute_result",
          "data": {
            "text/plain": [
              "name       Jhon\n",
              "age          55\n",
              "city    Chicago\n",
              "Name: 111, dtype: object"
            ]
          },
          "metadata": {
            "tags": []
          },
          "execution_count": 36
        }
      ]
    },
    {
      "cell_type": "markdown",
      "metadata": {
        "id": "qtoPc3X40Bal"
      },
      "source": [
        "## Create new columns\n",
        "\n",
        "A way extremely convenient to create new columns into *DataFrame* is use functionality from Pandas a known function as *broadcasting*.\n",
        "\n",
        "Informing the name of the new column and declaring only the value, these are replicated to all lines of the *DataFrame*\n"
      ]
    },
    {
      "cell_type": "code",
      "metadata": {
        "id": "wfw9Ojec1ED3",
        "colab": {
          "base_uri": "https://localhost:8080/",
          "height": 143
        },
        "outputId": "01467650-7521-4947-9d2a-1e1833caa9c9"
      },
      "source": [
        "# create column \"balance\"\n",
        "df['balance'] = 0.0\n",
        "\n",
        "# show DataFrame\n",
        "df"
      ],
      "execution_count": 37,
      "outputs": [
        {
          "output_type": "execute_result",
          "data": {
            "text/html": [
              "<div>\n",
              "<style scoped>\n",
              "    .dataframe tbody tr th:only-of-type {\n",
              "        vertical-align: middle;\n",
              "    }\n",
              "\n",
              "    .dataframe tbody tr th {\n",
              "        vertical-align: top;\n",
              "    }\n",
              "\n",
              "    .dataframe thead th {\n",
              "        text-align: right;\n",
              "    }\n",
              "</style>\n",
              "<table border=\"1\" class=\"dataframe\">\n",
              "  <thead>\n",
              "    <tr style=\"text-align: right;\">\n",
              "      <th></th>\n",
              "      <th>name</th>\n",
              "      <th>age</th>\n",
              "      <th>city</th>\n",
              "      <th>balance</th>\n",
              "    </tr>\n",
              "  </thead>\n",
              "  <tbody>\n",
              "    <tr>\n",
              "      <th>111</th>\n",
              "      <td>Jhon</td>\n",
              "      <td>55</td>\n",
              "      <td>Chicago</td>\n",
              "      <td>0.0</td>\n",
              "    </tr>\n",
              "    <tr>\n",
              "      <th>222</th>\n",
              "      <td>Mike</td>\n",
              "      <td>56</td>\n",
              "      <td>Washington</td>\n",
              "      <td>0.0</td>\n",
              "    </tr>\n",
              "    <tr>\n",
              "      <th>333</th>\n",
              "      <td>Raquel</td>\n",
              "      <td>12</td>\n",
              "      <td>Philadelphia</td>\n",
              "      <td>0.0</td>\n",
              "    </tr>\n",
              "  </tbody>\n",
              "</table>\n",
              "</div>"
            ],
            "text/plain": [
              "       name  age          city  balance\n",
              "111    Jhon   55       Chicago      0.0\n",
              "222    Mike   56    Washington      0.0\n",
              "333  Raquel   12  Philadelphia      0.0"
            ]
          },
          "metadata": {
            "tags": []
          },
          "execution_count": 37
        }
      ]
    },
    {
      "cell_type": "markdown",
      "metadata": {
        "id": "nmYdZtGu1NZL"
      },
      "source": [
        "## Modify *index* and columns\n",
        "\n",
        "Sometimes, we need modify the name of indexes or the *label* from columns. If yow see above cell...look that on *DataFrame* left the index of each line is represented for a number -111, 222, 333-.\n",
        "\n",
        "It's possible to modify this attribute from variable accessing directly, thus:"
      ]
    },
    {
      "cell_type": "code",
      "metadata": {
        "id": "tiGByguXlPUc",
        "colab": {
          "base_uri": "https://localhost:8080/"
        },
        "outputId": "45190ed1-a49a-4745-8809-0467f015b93d"
      },
      "source": [
        "df.index"
      ],
      "execution_count": 38,
      "outputs": [
        {
          "output_type": "execute_result",
          "data": {
            "text/plain": [
              "Int64Index([111, 222, 333], dtype='int64')"
            ]
          },
          "metadata": {
            "tags": []
          },
          "execution_count": 38
        }
      ]
    },
    {
      "cell_type": "code",
      "metadata": {
        "id": "I-x7DIoU2I56",
        "colab": {
          "base_uri": "https://localhost:8080/",
          "height": 143
        },
        "outputId": "7b1bb639-fb33-4f29-87fc-50c9321dbddb"
      },
      "source": [
        "# modify the index from df\n",
        "df.index = ['a', 'b', 'c']\n",
        "\n",
        "# show DataFrame\n",
        "df"
      ],
      "execution_count": 39,
      "outputs": [
        {
          "output_type": "execute_result",
          "data": {
            "text/html": [
              "<div>\n",
              "<style scoped>\n",
              "    .dataframe tbody tr th:only-of-type {\n",
              "        vertical-align: middle;\n",
              "    }\n",
              "\n",
              "    .dataframe tbody tr th {\n",
              "        vertical-align: top;\n",
              "    }\n",
              "\n",
              "    .dataframe thead th {\n",
              "        text-align: right;\n",
              "    }\n",
              "</style>\n",
              "<table border=\"1\" class=\"dataframe\">\n",
              "  <thead>\n",
              "    <tr style=\"text-align: right;\">\n",
              "      <th></th>\n",
              "      <th>name</th>\n",
              "      <th>age</th>\n",
              "      <th>city</th>\n",
              "      <th>balance</th>\n",
              "    </tr>\n",
              "  </thead>\n",
              "  <tbody>\n",
              "    <tr>\n",
              "      <th>a</th>\n",
              "      <td>Jhon</td>\n",
              "      <td>55</td>\n",
              "      <td>Chicago</td>\n",
              "      <td>0.0</td>\n",
              "    </tr>\n",
              "    <tr>\n",
              "      <th>b</th>\n",
              "      <td>Mike</td>\n",
              "      <td>56</td>\n",
              "      <td>Washington</td>\n",
              "      <td>0.0</td>\n",
              "    </tr>\n",
              "    <tr>\n",
              "      <th>c</th>\n",
              "      <td>Raquel</td>\n",
              "      <td>12</td>\n",
              "      <td>Philadelphia</td>\n",
              "      <td>0.0</td>\n",
              "    </tr>\n",
              "  </tbody>\n",
              "</table>\n",
              "</div>"
            ],
            "text/plain": [
              "     name  age          city  balance\n",
              "a    Jhon   55       Chicago      0.0\n",
              "b    Mike   56    Washington      0.0\n",
              "c  Raquel   12  Philadelphia      0.0"
            ]
          },
          "metadata": {
            "tags": []
          },
          "execution_count": 39
        }
      ]
    },
    {
      "cell_type": "code",
      "metadata": {
        "colab": {
          "base_uri": "https://localhost:8080/",
          "height": 143
        },
        "id": "-YElSNcrJNKC",
        "outputId": "134e3534-654a-4359-e9aa-d01edaacbc7b"
      },
      "source": [
        "# Delete column\n",
        "df = df.drop(['balance'], axis=1)\n",
        "\n",
        "# show DataFrame\n",
        "df"
      ],
      "execution_count": 48,
      "outputs": [
        {
          "output_type": "execute_result",
          "data": {
            "text/html": [
              "<div>\n",
              "<style scoped>\n",
              "    .dataframe tbody tr th:only-of-type {\n",
              "        vertical-align: middle;\n",
              "    }\n",
              "\n",
              "    .dataframe tbody tr th {\n",
              "        vertical-align: top;\n",
              "    }\n",
              "\n",
              "    .dataframe thead th {\n",
              "        text-align: right;\n",
              "    }\n",
              "</style>\n",
              "<table border=\"1\" class=\"dataframe\">\n",
              "  <thead>\n",
              "    <tr style=\"text-align: right;\">\n",
              "      <th></th>\n",
              "      <th>name</th>\n",
              "      <th>age</th>\n",
              "      <th>city</th>\n",
              "    </tr>\n",
              "  </thead>\n",
              "  <tbody>\n",
              "    <tr>\n",
              "      <th>a</th>\n",
              "      <td>Jhon</td>\n",
              "      <td>55</td>\n",
              "      <td>Chicago</td>\n",
              "    </tr>\n",
              "    <tr>\n",
              "      <th>b</th>\n",
              "      <td>Mike</td>\n",
              "      <td>56</td>\n",
              "      <td>Washington</td>\n",
              "    </tr>\n",
              "    <tr>\n",
              "      <th>c</th>\n",
              "      <td>Raquel</td>\n",
              "      <td>12</td>\n",
              "      <td>Philadelphia</td>\n",
              "    </tr>\n",
              "  </tbody>\n",
              "</table>\n",
              "</div>"
            ],
            "text/plain": [
              "     name  age          city\n",
              "a    Jhon   55       Chicago\n",
              "b    Mike   56    Washington\n",
              "c  Raquel   12  Philadelphia"
            ]
          },
          "metadata": {
            "tags": []
          },
          "execution_count": 48
        }
      ]
    },
    {
      "cell_type": "markdown",
      "metadata": {
        "id": "nraFA_Zw2SKT"
      },
      "source": [
        "In the same way, if I need to modify the name of columns I can modify directly on the attribute of the variable:"
      ]
    },
    {
      "cell_type": "code",
      "metadata": {
        "id": "9cZdwkoq2aPG",
        "colab": {
          "base_uri": "https://localhost:8080/",
          "height": 143
        },
        "outputId": "c15ae531-d10f-45a1-82db-678775e8253f"
      },
      "source": [
        "# modify labels from colunas\n",
        "df.columns = ['Customer Name', \"Age\", \"City\"]\n",
        "\n",
        "# show DataFrame\n",
        "df"
      ],
      "execution_count": 49,
      "outputs": [
        {
          "output_type": "execute_result",
          "data": {
            "text/html": [
              "<div>\n",
              "<style scoped>\n",
              "    .dataframe tbody tr th:only-of-type {\n",
              "        vertical-align: middle;\n",
              "    }\n",
              "\n",
              "    .dataframe tbody tr th {\n",
              "        vertical-align: top;\n",
              "    }\n",
              "\n",
              "    .dataframe thead th {\n",
              "        text-align: right;\n",
              "    }\n",
              "</style>\n",
              "<table border=\"1\" class=\"dataframe\">\n",
              "  <thead>\n",
              "    <tr style=\"text-align: right;\">\n",
              "      <th></th>\n",
              "      <th>Customer Name</th>\n",
              "      <th>Age</th>\n",
              "      <th>City</th>\n",
              "    </tr>\n",
              "  </thead>\n",
              "  <tbody>\n",
              "    <tr>\n",
              "      <th>a</th>\n",
              "      <td>Jhon</td>\n",
              "      <td>55</td>\n",
              "      <td>Chicago</td>\n",
              "    </tr>\n",
              "    <tr>\n",
              "      <th>b</th>\n",
              "      <td>Mike</td>\n",
              "      <td>56</td>\n",
              "      <td>Washington</td>\n",
              "    </tr>\n",
              "    <tr>\n",
              "      <th>c</th>\n",
              "      <td>Raquel</td>\n",
              "      <td>12</td>\n",
              "      <td>Philadelphia</td>\n",
              "    </tr>\n",
              "  </tbody>\n",
              "</table>\n",
              "</div>"
            ],
            "text/plain": [
              "  Customer Name  Age          City\n",
              "a          Jhon   55       Chicago\n",
              "b          Mike   56    Washington\n",
              "c        Raquel   12  Philadelphia"
            ]
          },
          "metadata": {
            "tags": []
          },
          "execution_count": 49
        }
      ]
    }
  ]
}